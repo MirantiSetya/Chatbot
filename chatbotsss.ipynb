{
 "cells": [
  {
   "cell_type": "code",
   "execution_count": 2,
   "metadata": {},
   "outputs": [
    {
     "name": "stdout",
     "output_type": "stream",
     "text": [
      "Collecting dotenv\n",
      "  Using cached dotenv-0.0.5.tar.gz (2.4 kB)\n",
      "  Preparing metadata (setup.py): started\n",
      "  Preparing metadata (setup.py): finished with status 'error'\n",
      "Note: you may need to restart the kernel to use updated packages.\n"
     ]
    },
    {
     "name": "stderr",
     "output_type": "stream",
     "text": [
      "  error: subprocess-exited-with-error\n",
      "  \n",
      "  × python setup.py egg_info did not run successfully.\n",
      "  │ exit code: 1\n",
      "  ╰─> [64 lines of output]\n",
      "      c:\\Users\\RANTI\\anaconda3\\lib\\site-packages\\setuptools\\installer.py:27: SetuptoolsDeprecationWarning: setuptools.installer is deprecated. Requirements should be satisfied by a PEP 517 installer.\n",
      "        warnings.warn(\n",
      "        error: subprocess-exited-with-error\n",
      "      \n",
      "        Ã— python setup.py egg_info did not run successfully.\n",
      "        â”‚ exit code: 1\n",
      "        â•°â”€> [16 lines of output]\n",
      "            Traceback (most recent call last):\n",
      "              File \"<string>\", line 2, in <module>\n",
      "              File \"<pip-setuptools-caller>\", line 14, in <module>\n",
      "              File \"C:\\Users\\RANTI\\AppData\\Local\\Temp\\pip-wheel-ohd5cn3n\\distribute_6f20b1b51fbe45cabc5ac8a50b30a738\\setuptools\\__init__.py\", line 2, in <module>\n",
      "                from setuptools.extension import Extension, Library\n",
      "              File \"C:\\Users\\RANTI\\AppData\\Local\\Temp\\pip-wheel-ohd5cn3n\\distribute_6f20b1b51fbe45cabc5ac8a50b30a738\\setuptools\\extension.py\", line 5, in <module>\n",
      "                from setuptools.dist import _get_unpatched\n",
      "              File \"C:\\Users\\RANTI\\AppData\\Local\\Temp\\pip-wheel-ohd5cn3n\\distribute_6f20b1b51fbe45cabc5ac8a50b30a738\\setuptools\\dist.py\", line 7, in <module>\n",
      "                from setuptools.command.install import install\n",
      "              File \"C:\\Users\\RANTI\\AppData\\Local\\Temp\\pip-wheel-ohd5cn3n\\distribute_6f20b1b51fbe45cabc5ac8a50b30a738\\setuptools\\command\\__init__.py\", line 8, in <module>\n",
      "                from setuptools.command import install_scripts\n",
      "              File \"C:\\Users\\RANTI\\AppData\\Local\\Temp\\pip-wheel-ohd5cn3n\\distribute_6f20b1b51fbe45cabc5ac8a50b30a738\\setuptools\\command\\install_scripts.py\", line 3, in <module>\n",
      "                from pkg_resources import Distribution, PathMetadata, ensure_directory\n",
      "              File \"C:\\Users\\RANTI\\AppData\\Local\\Temp\\pip-wheel-ohd5cn3n\\distribute_6f20b1b51fbe45cabc5ac8a50b30a738\\pkg_resources.py\", line 1518, in <module>\n",
      "                register_loader_type(importlib_bootstrap.SourceFileLoader, DefaultProvider)\n",
      "            AttributeError: module 'importlib._bootstrap' has no attribute 'SourceFileLoader'\n",
      "            [end of output]\n",
      "      \n",
      "        note: This error originates from a subprocess, and is likely not a problem with pip.\n",
      "      error: metadata-generation-failed\n",
      "      \n",
      "      Ã— Encountered error while generating package metadata.\n",
      "      â•°â”€> See above for output.\n",
      "      \n",
      "      note: This is an issue with the package mentioned above, not pip.\n",
      "      hint: See above for details.\n",
      "      Traceback (most recent call last):\n",
      "        File \"c:\\Users\\RANTI\\anaconda3\\lib\\site-packages\\setuptools\\installer.py\", line 82, in fetch_build_egg\n",
      "          subprocess.check_call(cmd)\n",
      "        File \"c:\\Users\\RANTI\\anaconda3\\lib\\subprocess.py\", line 373, in check_call\n",
      "          raise CalledProcessError(retcode, cmd)\n",
      "      subprocess.CalledProcessError: Command '['c:\\\\Users\\\\RANTI\\\\anaconda3\\\\python.exe', '-m', 'pip', '--disable-pip-version-check', 'wheel', '--no-deps', '-w', 'C:\\\\Users\\\\RANTI\\\\AppData\\\\Local\\\\Temp\\\\tmp83elbaa1', '--quiet', 'distribute']' returned non-zero exit status 1.\n",
      "      \n",
      "      The above exception was the direct cause of the following exception:\n",
      "      \n",
      "      Traceback (most recent call last):\n",
      "        File \"<string>\", line 2, in <module>\n",
      "        File \"<pip-setuptools-caller>\", line 34, in <module>\n",
      "        File \"C:\\Users\\RANTI\\AppData\\Local\\Temp\\pip-install-i0tdb3at\\dotenv_84358856d14249319a5b5a19ac1bd337\\setup.py\", line 13, in <module>\n",
      "          setup(name='dotenv',\n",
      "        File \"c:\\Users\\RANTI\\anaconda3\\lib\\site-packages\\setuptools\\__init__.py\", line 86, in setup\n",
      "          _install_setup_requires(attrs)\n",
      "        File \"c:\\Users\\RANTI\\anaconda3\\lib\\site-packages\\setuptools\\__init__.py\", line 80, in _install_setup_requires\n",
      "          dist.fetch_build_eggs(dist.setup_requires)\n",
      "        File \"c:\\Users\\RANTI\\anaconda3\\lib\\site-packages\\setuptools\\dist.py\", line 875, in fetch_build_eggs\n",
      "          resolved_dists = pkg_resources.working_set.resolve(\n",
      "        File \"c:\\Users\\RANTI\\anaconda3\\lib\\site-packages\\pkg_resources\\__init__.py\", line 789, in resolve\n",
      "          dist = best[req.key] = env.best_match(\n",
      "        File \"c:\\Users\\RANTI\\anaconda3\\lib\\site-packages\\pkg_resources\\__init__.py\", line 1075, in best_match\n",
      "          return self.obtain(req, installer)\n",
      "        File \"c:\\Users\\RANTI\\anaconda3\\lib\\site-packages\\pkg_resources\\__init__.py\", line 1087, in obtain\n",
      "          return installer(requirement)\n",
      "        File \"c:\\Users\\RANTI\\anaconda3\\lib\\site-packages\\setuptools\\dist.py\", line 945, in fetch_build_egg\n",
      "          return fetch_build_egg(self, req)\n",
      "        File \"c:\\Users\\RANTI\\anaconda3\\lib\\site-packages\\setuptools\\installer.py\", line 84, in fetch_build_egg\n",
      "          raise DistutilsError(str(e)) from e\n",
      "      distutils.errors.DistutilsError: Command '['c:\\\\Users\\\\RANTI\\\\anaconda3\\\\python.exe', '-m', 'pip', '--disable-pip-version-check', 'wheel', '--no-deps', '-w', 'C:\\\\Users\\\\RANTI\\\\AppData\\\\Local\\\\Temp\\\\tmp83elbaa1', '--quiet', 'distribute']' returned non-zero exit status 1.\n",
      "      [end of output]\n",
      "  \n",
      "  note: This error originates from a subprocess, and is likely not a problem with pip.\n",
      "error: metadata-generation-failed\n",
      "\n",
      "× Encountered error while generating package metadata.\n",
      "╰─> See above for output.\n",
      "\n",
      "note: This is an issue with the package mentioned above, not pip.\n",
      "hint: See above for details.\n"
     ]
    }
   ],
   "source": [
    "pip install dotenv"
   ]
  },
  {
   "cell_type": "code",
   "execution_count": 1,
   "metadata": {},
   "outputs": [],
   "source": [
    "import os\n",
    "import telebot\n",
    "from aiogram.types import ReplyKeyboardMarkup, KeyboardButton  \n",
    "from aiogram import Bot, Dispatcher, executor, types\n",
    "from dotenv import load_dotenv"
   ]
  },
  {
   "cell_type": "code",
   "execution_count": 8,
   "metadata": {},
   "outputs": [
    {
     "data": {
      "text/plain": [
       "True"
      ]
     },
     "execution_count": 8,
     "metadata": {},
     "output_type": "execute_result"
    }
   ],
   "source": [
    "\n",
    "load_dotenv('.env') "
   ]
  },
  {
   "cell_type": "code",
   "execution_count": 9,
   "metadata": {},
   "outputs": [],
   "source": [
    "BOT_TOKEN = os.environ.get('BOT_TOKEN')"
   ]
  },
  {
   "cell_type": "code",
   "execution_count": 10,
   "metadata": {},
   "outputs": [],
   "source": [
    "bot = telebot.TeleBot(BOT_TOKEN)"
   ]
  },
  {
   "cell_type": "code",
   "execution_count": 11,
   "metadata": {},
   "outputs": [],
   "source": [
    "@bot.message_handler(commands=['start', 'hello'])\n",
    "def send_welcome(message):\n",
    "    bot.reply_to(message, \"Hi, how can i help you?. \\n Type /Info to get a free MBTI test link. \\n Type /MBTI to see information about your personality \")"
   ]
  },
  {
   "cell_type": "code",
   "execution_count": 12,
   "metadata": {},
   "outputs": [],
   "source": [
    "@bot.message_handler(commands=['Info'])\n",
    "def sign_handler(message):\n",
    "    text = \"Here's the link *https://www.16personalities.com/free-personality-test*.\"\n",
    "    sent_msg = bot.send_message(message.chat.id, text, parse_mode=\"Markdown\")\n",
    "    bot.register_next_step_handler(sent_msg)"
   ]
  },
  {
   "cell_type": "code",
   "execution_count": 13,
   "metadata": {},
   "outputs": [],
   "source": [
    "@bot.message_handler(commands=['MBTI'])\n",
    "def sign_handler(message):\n",
    "    text = \"Choose your MBTI. \\n /INTJ. \\n /INTP. \\n /ENTJ. \\n /ENTP. \\n /INFJ. \\n /INFP. \\n /ENFJ. \\n /ENFP. \\n /ISTJ. \\n /ISFJ.\\n /ESTJ.\\n /ESFJ.\\n /ISTP.\\n /ISFP.\\n /ESTP.\\n /ESFP\"\n",
    "    sent_msg = bot.send_message(message.chat.id, text, parse_mode=\"Markdown\")\n",
    "    bot.register_next_step_handler(sent_msg)"
   ]
  },
  {
   "cell_type": "code",
   "execution_count": 14,
   "metadata": {},
   "outputs": [],
   "source": [
    "@bot.message_handler(commands=['INTJ'])\n",
    "def sign_handler(message):\n",
    "    text = \" A Logician (INTP) is someone with the Introverted, Intuitive, Thinking, and Prospecting personality traits. These flexible thinkers enjoy taking an unconventional approach to many aspects of life. They often seek out unlikely paths, mixing willingness to experiment with personal creativity.\\n Click here for more info *https://www.16personalities.com/intj-personality*\"\n",
    "    sent_msg = bot.send_message(message.chat.id, text, parse_mode=\"Markdown\")\n",
    "    bot.register_next_step_handler(sent_msg)"
   ]
  },
  {
   "cell_type": "code",
   "execution_count": 15,
   "metadata": {},
   "outputs": [],
   "source": [
    "@bot.message_handler(commands=['INTP'])\n",
    "def sign_handler(message):\n",
    "    text = \"An Architect (INTJ) is a person with the Introverted, Intuitive, Thinking, and Judging personality traits. These thoughtful tacticians love perfecting the details of life, applying creativity and rationality to everything they do. Their inner world is often a private, complex one.\\n Click here for more info *https://www.16personalities.com/intp-personality*\"\n",
    "    sent_msg = bot.send_message(message.chat.id, text, parse_mode=\"Markdown\")\n",
    "    bot.register_next_step_handler(sent_msg)"
   ]
  },
  {
   "cell_type": "code",
   "execution_count": 16,
   "metadata": {},
   "outputs": [],
   "source": [
    "@bot.message_handler(commands=['ENTJ'])\n",
    "def sign_handler(message):\n",
    "    text = \"A Commander (ENTJ) is someone with the Extraverted, Intuitive, Thinking, and Judging personality traits. They are decisive people who love momentum and accomplishment. They gather information to construct their creative visions but rarely hesitate for long before acting on them.\\n Click here for more info *https://www.16personalities.com/entj-personality*\"\n",
    "    sent_msg = bot.send_message(message.chat.id, text, parse_mode=\"Markdown\")\n",
    "    bot.register_next_step_handler(sent_msg)"
   ]
  },
  {
   "cell_type": "code",
   "execution_count": 17,
   "metadata": {},
   "outputs": [],
   "source": [
    "@bot.message_handler(commands=['ENTP'])\n",
    "def sign_handler(message):\n",
    "    text = \"A Debater (ENTP) is a person with the Extraverted, Intuitive, Thinking, and Prospecting personality traits. They tend to be bold and creative, deconstructing and rebuilding ideas with great mental agility. They pursue their goals vigorously despite any resistance they might encounter.\\n Click here for more info *https://www.16personalities.com/entp-personality*\"\n",
    "    sent_msg = bot.send_message(message.chat.id, text, parse_mode=\"Markdown\")\n",
    "    bot.register_next_step_handler(sent_msg)"
   ]
  },
  {
   "cell_type": "code",
   "execution_count": 18,
   "metadata": {},
   "outputs": [],
   "source": [
    "@bot.message_handler(commands=['INFJ'])\n",
    "def sign_handler(message):\n",
    "    text = \"An Advocate (INFJ) is someone with the Introverted, Intuitive, Feeling, and Judging personality traits. They tend to approach life with deep thoughtfulness and imagination. Their inner vision, personal values, and a quiet, principled version of humanism guide them in all things.\\n Click here for more info *https://www.16personalities.com/infj-personality*\"\n",
    "    sent_msg = bot.send_message(message.chat.id, text, parse_mode=\"Markdown\")\n",
    "    bot.register_next_step_handler(sent_msg)"
   ]
  },
  {
   "cell_type": "code",
   "execution_count": 19,
   "metadata": {},
   "outputs": [],
   "source": [
    "@bot.message_handler(commands=['INFP'])\n",
    "def sign_handler(message):\n",
    "    text = \"A Mediator (INFP) is someone who possesses the Introverted, Intuitive, Feeling, and Prospecting personality traits. These rare personality types tend to be quiet, open-minded, and imaginative, and they apply a caring and creative approach to everything they do.\\n Click here for more info *https://www.16personalities.com/infp-personality*\"\n",
    "    sent_msg = bot.send_message(message.chat.id, text, parse_mode=\"Markdown\")\n",
    "    bot.register_next_step_handler(sent_msg)"
   ]
  },
  {
   "cell_type": "code",
   "execution_count": 20,
   "metadata": {},
   "outputs": [],
   "source": [
    "@bot.message_handler(commands=['ENFJ'])\n",
    "def sign_handler(message):\n",
    "    text = \"A Protagonist (ENFJ) is a person with the Extraverted, Intuitive, Feeling, and Judging personality traits. These warm, forthright types love helping others, and they tend to have strong ideas and values. They back their perspective with the creative energy to achieve their goals.\\n Click here for more info *https://www.16personalities.com/enfj-personality*\"\n",
    "    sent_msg = bot.send_message(message.chat.id, text, parse_mode=\"Markdown\")\n",
    "    bot.register_next_step_handler(sent_msg)"
   ]
  },
  {
   "cell_type": "code",
   "execution_count": 21,
   "metadata": {},
   "outputs": [],
   "source": [
    "@bot.message_handler(commands=['ENFP'])\n",
    "def sign_handler(message):\n",
    "    text = \"A Campaigner (ENFP) is someone with the Extraverted, Intuitive, Feeling, and Prospecting personality traits. These people tend to embrace big ideas and actions that reflect their sense of hope and goodwill toward others. Their vibrant energy can flow in many directions.\\n Click here for more info *https://www.16personalities.com/enfp-personality*\"\n",
    "    sent_msg = bot.send_message(message.chat.id, text, parse_mode=\"Markdown\")\n",
    "    bot.register_next_step_handler(sent_msg)"
   ]
  },
  {
   "cell_type": "code",
   "execution_count": 22,
   "metadata": {},
   "outputs": [],
   "source": [
    "@bot.message_handler(commands=['ISTJ'])\n",
    "def sign_handler(message):\n",
    "    text = \"A Logistician (ISTJ) is someone with the Introverted, Observant, Thinking, and Judging personality traits. These people tend to be reserved yet willful, with a rational outlook on life. They compose their actions carefully and carry them out with methodical purpose.\\n Click here for more info *https://www.16personalities.com/istj-personality*\"\n",
    "    sent_msg = bot.send_message(message.chat.id, text, parse_mode=\"Markdown\")\n",
    "    bot.register_next_step_handler(sent_msg)"
   ]
  },
  {
   "cell_type": "code",
   "execution_count": 23,
   "metadata": {},
   "outputs": [],
   "source": [
    "@bot.message_handler(commands=['ISFJ'])\n",
    "def sign_handler(message):\n",
    "    text = \"A Defender (ISFJ) is someone with the Introverted, Observant, Feeling, and Judging personality traits. These people tend to be warm and unassuming in their own steady way. They’re efficient and responsible, giving careful attention to practical details in their daily lives.\\n Click here for more info *https://www.16personalities.com/isfj-personality*\"\n",
    "    sent_msg = bot.send_message(message.chat.id, text, parse_mode=\"Markdown\")\n",
    "    bot.register_next_step_handler(sent_msg)"
   ]
  },
  {
   "cell_type": "code",
   "execution_count": 24,
   "metadata": {},
   "outputs": [],
   "source": [
    "@bot.message_handler(commands=['ESTJ'])\n",
    "def sign_handler(message):\n",
    "    text = \"An Executive (ESTJ) is someone with the Extraverted, Observant, Thinking, and Judging personality traits. They possess great fortitude, emphatically following their own sensible judgment. They often serve as a stabilizing force among others, able to offer solid direction amid adversity.\\n Click here for more info *https://www.16personalities.com/estj-personality*\"\n",
    "    sent_msg = bot.send_message(message.chat.id, text, parse_mode=\"Markdown\")\n",
    "    bot.register_next_step_handler(sent_msg)"
   ]
  },
  {
   "cell_type": "code",
   "execution_count": 25,
   "metadata": {},
   "outputs": [],
   "source": [
    "@bot.message_handler(commands=['ESFJ'])\n",
    "def sign_handler(message):\n",
    "    text = \"A Consul (ESFJ) is a person with the Extraverted, Observant, Feeling, and Judging personality traits. They are attentive and people-focused, and they enjoy taking part in their social community. Their achievements are guided by decisive values, and they willingly offer guidance to others.\\n Click here for more info *https://www.16personalities.com/esfj-personality*\"\n",
    "    sent_msg = bot.send_message(message.chat.id, text, parse_mode=\"Markdown\")\n",
    "    bot.register_next_step_handler(sent_msg)"
   ]
  },
  {
   "cell_type": "code",
   "execution_count": 26,
   "metadata": {},
   "outputs": [],
   "source": [
    "@bot.message_handler(commands=['ISTP'])\n",
    "def sign_handler(message):\n",
    "    text = \"A Virtuoso (ISTP) is someone with the Introverted, Observant, Thinking, and Prospecting personality traits. They tend to have an individualistic mindset, pursuing goals without needing much external connection. They engage in life with inquisitiveness and personal skill, varying their approach as needed.\\n Click here for more info *https://www.16personalities.com/istp-personality*\"\n",
    "    sent_msg = bot.send_message(message.chat.id, text, parse_mode=\"Markdown\")\n",
    "    bot.register_next_step_handler(sent_msg)"
   ]
  },
  {
   "cell_type": "code",
   "execution_count": 27,
   "metadata": {},
   "outputs": [],
   "source": [
    "@bot.message_handler(commands=['ISFP'])\n",
    "def sign_handler(message):\n",
    "    text = \"An Adventurer (ISFP) is a person with the Introverted, Observant, Feeling, and Prospecting personality traits. They tend to have open minds, approaching life, new experiences, and people with grounded warmth. Their ability to stay in the moment helps them uncover exciting potentials.\\n Click here for more info *https://www.16personalities.com/isfp-personality*\"\n",
    "    sent_msg = bot.send_message(message.chat.id, text, parse_mode=\"Markdown\")\n",
    "    bot.register_next_step_handler(sent_msg)"
   ]
  },
  {
   "cell_type": "code",
   "execution_count": 28,
   "metadata": {},
   "outputs": [],
   "source": [
    "@bot.message_handler(commands=['ESTP'])\n",
    "def sign_handler(message):\n",
    "    text = \"An Entrepreneur (ESTP) is someone with the Extraverted, Observant, Thinking, and Prospecting personality traits. They tend to be energetic and action-oriented, deftly navigating whatever is in front of them. They love uncovering life’s opportunities, whether socializing with others or in more personal pursuits.\\n Click here for more info *https://www.16personalities.com/estp-personality*\"\n",
    "    sent_msg = bot.send_message(message.chat.id, text, parse_mode=\"Markdown\")\n",
    "    bot.register_next_step_handler(sent_msg)"
   ]
  },
  {
   "cell_type": "code",
   "execution_count": 29,
   "metadata": {},
   "outputs": [],
   "source": [
    "@bot.message_handler(commands=['ESFP'])\n",
    "def sign_handler(message):\n",
    "    text = \" An Entertainer (ESFP) is a person with the Extraverted, Observant, Feeling, and Prospecting personality traits. These people love vibrant experiences, engaging in life eagerly and taking pleasure in discovering the unknown. They can be very social, often encouraging others into shared activities.\\n Click here for more info *https://www.16personalities.com/esfp-personality*\"\n",
    "    sent_msg = bot.send_message(message.chat.id, text, parse_mode=\"Markdown\")\n",
    "    bot.register_next_step_handler(sent_msg)"
   ]
  },
  {
   "cell_type": "code",
   "execution_count": 30,
   "metadata": {},
   "outputs": [],
   "source": [
    "@bot.message_handler(func=lambda msg: True)\n",
    "def echo_all(message):\n",
    "    bot.reply_to(message, message.text)"
   ]
  },
  {
   "cell_type": "code",
   "execution_count": 31,
   "metadata": {},
   "outputs": [
    {
     "name": "stderr",
     "output_type": "stream",
     "text": [
      "2022-12-31 08:15:17,184 (__init__.py:960 MainThread) ERROR - TeleBot: \"Infinity polling exception: register_next_step_handler() missing 1 required positional argument: 'callback'\"\n",
      "2022-12-31 08:15:17,185 (__init__.py:962 MainThread) ERROR - TeleBot: \"Exception traceback:\n",
      "Traceback (most recent call last):\n",
      "  File \"c:\\Users\\RANTI\\anaconda3\\lib\\site-packages\\telebot\\__init__.py\", line 955, in infinity_polling\n",
      "    self.polling(non_stop=True, timeout=timeout, long_polling_timeout=long_polling_timeout,\n",
      "  File \"c:\\Users\\RANTI\\anaconda3\\lib\\site-packages\\telebot\\__init__.py\", line 1043, in polling\n",
      "    self.__threaded_polling(non_stop=non_stop, interval=interval, timeout=timeout, long_polling_timeout=long_polling_timeout,\n",
      "  File \"c:\\Users\\RANTI\\anaconda3\\lib\\site-packages\\telebot\\__init__.py\", line 1118, in __threaded_polling\n",
      "    raise e\n",
      "  File \"c:\\Users\\RANTI\\anaconda3\\lib\\site-packages\\telebot\\__init__.py\", line 1074, in __threaded_polling\n",
      "    self.worker_pool.raise_exceptions()\n",
      "  File \"c:\\Users\\RANTI\\anaconda3\\lib\\site-packages\\telebot\\util.py\", line 156, in raise_exceptions\n",
      "    raise self.exception_info\n",
      "  File \"c:\\Users\\RANTI\\anaconda3\\lib\\site-packages\\telebot\\util.py\", line 100, in run\n",
      "    task(*args, **kwargs)\n",
      "  File \"c:\\Users\\RANTI\\anaconda3\\lib\\site-packages\\telebot\\__init__.py\", line 6308, in _run_middlewares_and_handler\n",
      "    result = handler['function'](message)\n",
      "  File \"C:\\Users\\RANTI\\AppData\\Local\\Temp\\ipykernel_10952\\3843580485.py\", line 5, in sign_handler\n",
      "    bot.register_next_step_handler(sent_msg)\n",
      "TypeError: register_next_step_handler() missing 1 required positional argument: 'callback'\n",
      "\"\n",
      "2022-12-31 08:15:20,898 (__init__.py:960 MainThread) ERROR - TeleBot: \"Infinity polling exception: register_next_step_handler() missing 1 required positional argument: 'callback'\"\n",
      "2022-12-31 08:15:20,899 (__init__.py:962 MainThread) ERROR - TeleBot: \"Exception traceback:\n",
      "Traceback (most recent call last):\n",
      "  File \"c:\\Users\\RANTI\\anaconda3\\lib\\site-packages\\telebot\\__init__.py\", line 955, in infinity_polling\n",
      "    self.polling(non_stop=True, timeout=timeout, long_polling_timeout=long_polling_timeout,\n",
      "  File \"c:\\Users\\RANTI\\anaconda3\\lib\\site-packages\\telebot\\__init__.py\", line 1043, in polling\n",
      "    self.__threaded_polling(non_stop=non_stop, interval=interval, timeout=timeout, long_polling_timeout=long_polling_timeout,\n",
      "  File \"c:\\Users\\RANTI\\anaconda3\\lib\\site-packages\\telebot\\__init__.py\", line 1118, in __threaded_polling\n",
      "    raise e\n",
      "  File \"c:\\Users\\RANTI\\anaconda3\\lib\\site-packages\\telebot\\__init__.py\", line 1074, in __threaded_polling\n",
      "    self.worker_pool.raise_exceptions()\n",
      "  File \"c:\\Users\\RANTI\\anaconda3\\lib\\site-packages\\telebot\\util.py\", line 156, in raise_exceptions\n",
      "    raise self.exception_info\n",
      "  File \"c:\\Users\\RANTI\\anaconda3\\lib\\site-packages\\telebot\\util.py\", line 100, in run\n",
      "    task(*args, **kwargs)\n",
      "  File \"c:\\Users\\RANTI\\anaconda3\\lib\\site-packages\\telebot\\__init__.py\", line 6308, in _run_middlewares_and_handler\n",
      "    result = handler['function'](message)\n",
      "  File \"C:\\Users\\RANTI\\AppData\\Local\\Temp\\ipykernel_10952\\1621168462.py\", line 5, in sign_handler\n",
      "    bot.register_next_step_handler(sent_msg)\n",
      "TypeError: register_next_step_handler() missing 1 required positional argument: 'callback'\n",
      "\"\n",
      "2022-12-31 08:15:23,906 (__init__.py:960 MainThread) ERROR - TeleBot: \"Infinity polling exception: register_next_step_handler() missing 1 required positional argument: 'callback'\"\n",
      "2022-12-31 08:15:23,923 (__init__.py:962 MainThread) ERROR - TeleBot: \"Exception traceback:\n",
      "Traceback (most recent call last):\n",
      "  File \"c:\\Users\\RANTI\\anaconda3\\lib\\site-packages\\telebot\\__init__.py\", line 955, in infinity_polling\n",
      "    self.polling(non_stop=True, timeout=timeout, long_polling_timeout=long_polling_timeout,\n",
      "  File \"c:\\Users\\RANTI\\anaconda3\\lib\\site-packages\\telebot\\__init__.py\", line 1043, in polling\n",
      "    self.__threaded_polling(non_stop=non_stop, interval=interval, timeout=timeout, long_polling_timeout=long_polling_timeout,\n",
      "  File \"c:\\Users\\RANTI\\anaconda3\\lib\\site-packages\\telebot\\__init__.py\", line 1118, in __threaded_polling\n",
      "    raise e\n",
      "  File \"c:\\Users\\RANTI\\anaconda3\\lib\\site-packages\\telebot\\__init__.py\", line 1074, in __threaded_polling\n",
      "    self.worker_pool.raise_exceptions()\n",
      "  File \"c:\\Users\\RANTI\\anaconda3\\lib\\site-packages\\telebot\\util.py\", line 156, in raise_exceptions\n",
      "    raise self.exception_info\n",
      "  File \"c:\\Users\\RANTI\\anaconda3\\lib\\site-packages\\telebot\\util.py\", line 100, in run\n",
      "    task(*args, **kwargs)\n",
      "  File \"c:\\Users\\RANTI\\anaconda3\\lib\\site-packages\\telebot\\__init__.py\", line 6308, in _run_middlewares_and_handler\n",
      "    result = handler['function'](message)\n",
      "  File \"C:\\Users\\RANTI\\AppData\\Local\\Temp\\ipykernel_10952\\1621168462.py\", line 5, in sign_handler\n",
      "    bot.register_next_step_handler(sent_msg)\n",
      "TypeError: register_next_step_handler() missing 1 required positional argument: 'callback'\n",
      "\"\n",
      "2022-12-31 08:15:30,208 (__init__.py:960 MainThread) ERROR - TeleBot: \"Infinity polling exception: register_next_step_handler() missing 1 required positional argument: 'callback'\"\n",
      "2022-12-31 08:15:30,210 (__init__.py:962 MainThread) ERROR - TeleBot: \"Exception traceback:\n",
      "Traceback (most recent call last):\n",
      "  File \"c:\\Users\\RANTI\\anaconda3\\lib\\site-packages\\telebot\\__init__.py\", line 955, in infinity_polling\n",
      "    self.polling(non_stop=True, timeout=timeout, long_polling_timeout=long_polling_timeout,\n",
      "  File \"c:\\Users\\RANTI\\anaconda3\\lib\\site-packages\\telebot\\__init__.py\", line 1043, in polling\n",
      "    self.__threaded_polling(non_stop=non_stop, interval=interval, timeout=timeout, long_polling_timeout=long_polling_timeout,\n",
      "  File \"c:\\Users\\RANTI\\anaconda3\\lib\\site-packages\\telebot\\__init__.py\", line 1118, in __threaded_polling\n",
      "    raise e\n",
      "  File \"c:\\Users\\RANTI\\anaconda3\\lib\\site-packages\\telebot\\__init__.py\", line 1074, in __threaded_polling\n",
      "    self.worker_pool.raise_exceptions()\n",
      "  File \"c:\\Users\\RANTI\\anaconda3\\lib\\site-packages\\telebot\\util.py\", line 156, in raise_exceptions\n",
      "    raise self.exception_info\n",
      "  File \"c:\\Users\\RANTI\\anaconda3\\lib\\site-packages\\telebot\\util.py\", line 100, in run\n",
      "    task(*args, **kwargs)\n",
      "  File \"c:\\Users\\RANTI\\anaconda3\\lib\\site-packages\\telebot\\__init__.py\", line 6308, in _run_middlewares_and_handler\n",
      "    result = handler['function'](message)\n",
      "  File \"C:\\Users\\RANTI\\AppData\\Local\\Temp\\ipykernel_10952\\3647175257.py\", line 5, in sign_handler\n",
      "    bot.register_next_step_handler(sent_msg)\n",
      "TypeError: register_next_step_handler() missing 1 required positional argument: 'callback'\n",
      "\"\n",
      "2022-12-31 08:15:33,574 (__init__.py:960 MainThread) ERROR - TeleBot: \"Infinity polling exception: register_next_step_handler() missing 1 required positional argument: 'callback'\"\n",
      "2022-12-31 08:15:33,578 (__init__.py:962 MainThread) ERROR - TeleBot: \"Exception traceback:\n",
      "Traceback (most recent call last):\n",
      "  File \"c:\\Users\\RANTI\\anaconda3\\lib\\site-packages\\telebot\\__init__.py\", line 955, in infinity_polling\n",
      "    self.polling(non_stop=True, timeout=timeout, long_polling_timeout=long_polling_timeout,\n",
      "  File \"c:\\Users\\RANTI\\anaconda3\\lib\\site-packages\\telebot\\__init__.py\", line 1043, in polling\n",
      "    self.__threaded_polling(non_stop=non_stop, interval=interval, timeout=timeout, long_polling_timeout=long_polling_timeout,\n",
      "  File \"c:\\Users\\RANTI\\anaconda3\\lib\\site-packages\\telebot\\__init__.py\", line 1118, in __threaded_polling\n",
      "    raise e\n",
      "  File \"c:\\Users\\RANTI\\anaconda3\\lib\\site-packages\\telebot\\__init__.py\", line 1074, in __threaded_polling\n",
      "    self.worker_pool.raise_exceptions()\n",
      "  File \"c:\\Users\\RANTI\\anaconda3\\lib\\site-packages\\telebot\\util.py\", line 156, in raise_exceptions\n",
      "    raise self.exception_info\n",
      "  File \"c:\\Users\\RANTI\\anaconda3\\lib\\site-packages\\telebot\\util.py\", line 100, in run\n",
      "    task(*args, **kwargs)\n",
      "  File \"c:\\Users\\RANTI\\anaconda3\\lib\\site-packages\\telebot\\__init__.py\", line 6308, in _run_middlewares_and_handler\n",
      "    result = handler['function'](message)\n",
      "  File \"C:\\Users\\RANTI\\AppData\\Local\\Temp\\ipykernel_10952\\2560002304.py\", line 5, in sign_handler\n",
      "    bot.register_next_step_handler(sent_msg)\n",
      "TypeError: register_next_step_handler() missing 1 required positional argument: 'callback'\n",
      "\"\n",
      "2022-12-31 08:15:40,302 (__init__.py:960 MainThread) ERROR - TeleBot: \"Infinity polling exception: register_next_step_handler() missing 1 required positional argument: 'callback'\"\n",
      "2022-12-31 08:15:40,304 (__init__.py:962 MainThread) ERROR - TeleBot: \"Exception traceback:\n",
      "Traceback (most recent call last):\n",
      "  File \"c:\\Users\\RANTI\\anaconda3\\lib\\site-packages\\telebot\\__init__.py\", line 955, in infinity_polling\n",
      "    self.polling(non_stop=True, timeout=timeout, long_polling_timeout=long_polling_timeout,\n",
      "  File \"c:\\Users\\RANTI\\anaconda3\\lib\\site-packages\\telebot\\__init__.py\", line 1043, in polling\n",
      "    self.__threaded_polling(non_stop=non_stop, interval=interval, timeout=timeout, long_polling_timeout=long_polling_timeout,\n",
      "  File \"c:\\Users\\RANTI\\anaconda3\\lib\\site-packages\\telebot\\__init__.py\", line 1118, in __threaded_polling\n",
      "    raise e\n",
      "  File \"c:\\Users\\RANTI\\anaconda3\\lib\\site-packages\\telebot\\__init__.py\", line 1074, in __threaded_polling\n",
      "    self.worker_pool.raise_exceptions()\n",
      "  File \"c:\\Users\\RANTI\\anaconda3\\lib\\site-packages\\telebot\\util.py\", line 156, in raise_exceptions\n",
      "    raise self.exception_info\n",
      "  File \"c:\\Users\\RANTI\\anaconda3\\lib\\site-packages\\telebot\\util.py\", line 100, in run\n",
      "    task(*args, **kwargs)\n",
      "  File \"c:\\Users\\RANTI\\anaconda3\\lib\\site-packages\\telebot\\__init__.py\", line 6308, in _run_middlewares_and_handler\n",
      "    result = handler['function'](message)\n",
      "  File \"C:\\Users\\RANTI\\AppData\\Local\\Temp\\ipykernel_10952\\414663275.py\", line 5, in sign_handler\n",
      "    bot.register_next_step_handler(sent_msg)\n",
      "TypeError: register_next_step_handler() missing 1 required positional argument: 'callback'\n",
      "\"\n",
      "2022-12-31 08:15:46,263 (__init__.py:960 MainThread) ERROR - TeleBot: \"Infinity polling exception: register_next_step_handler() missing 1 required positional argument: 'callback'\"\n",
      "2022-12-31 08:15:46,265 (__init__.py:962 MainThread) ERROR - TeleBot: \"Exception traceback:\n",
      "Traceback (most recent call last):\n",
      "  File \"c:\\Users\\RANTI\\anaconda3\\lib\\site-packages\\telebot\\__init__.py\", line 955, in infinity_polling\n",
      "    self.polling(non_stop=True, timeout=timeout, long_polling_timeout=long_polling_timeout,\n",
      "  File \"c:\\Users\\RANTI\\anaconda3\\lib\\site-packages\\telebot\\__init__.py\", line 1043, in polling\n",
      "    self.__threaded_polling(non_stop=non_stop, interval=interval, timeout=timeout, long_polling_timeout=long_polling_timeout,\n",
      "  File \"c:\\Users\\RANTI\\anaconda3\\lib\\site-packages\\telebot\\__init__.py\", line 1118, in __threaded_polling\n",
      "    raise e\n",
      "  File \"c:\\Users\\RANTI\\anaconda3\\lib\\site-packages\\telebot\\__init__.py\", line 1074, in __threaded_polling\n",
      "    self.worker_pool.raise_exceptions()\n",
      "  File \"c:\\Users\\RANTI\\anaconda3\\lib\\site-packages\\telebot\\util.py\", line 156, in raise_exceptions\n",
      "    raise self.exception_info\n",
      "  File \"c:\\Users\\RANTI\\anaconda3\\lib\\site-packages\\telebot\\util.py\", line 100, in run\n",
      "    task(*args, **kwargs)\n",
      "  File \"c:\\Users\\RANTI\\anaconda3\\lib\\site-packages\\telebot\\__init__.py\", line 6308, in _run_middlewares_and_handler\n",
      "    result = handler['function'](message)\n",
      "  File \"C:\\Users\\RANTI\\AppData\\Local\\Temp\\ipykernel_10952\\3702533384.py\", line 5, in sign_handler\n",
      "    bot.register_next_step_handler(sent_msg)\n",
      "TypeError: register_next_step_handler() missing 1 required positional argument: 'callback'\n",
      "\"\n",
      "2022-12-31 08:16:19,114 (__init__.py:966 MainThread) ERROR - TeleBot: \"Infinity polling: polling exited\"\n",
      "2022-12-31 08:16:19,115 (__init__.py:968 MainThread) ERROR - TeleBot: \"Break infinity polling\"\n"
     ]
    }
   ],
   "source": [
    "bot.infinity_polling()"
   ]
  }
 ],
 "metadata": {
  "kernelspec": {
   "display_name": "base",
   "language": "python",
   "name": "python3"
  },
  "language_info": {
   "codemirror_mode": {
    "name": "ipython",
    "version": 3
   },
   "file_extension": ".py",
   "mimetype": "text/x-python",
   "name": "python",
   "nbconvert_exporter": "python",
   "pygments_lexer": "ipython3",
   "version": "3.9.13"
  },
  "orig_nbformat": 4,
  "vscode": {
   "interpreter": {
    "hash": "d3d995f44279caf061c5140f0c5a2da3f0d46e62ce4266e0fd570ec46d808526"
   }
  }
 },
 "nbformat": 4,
 "nbformat_minor": 2
}
